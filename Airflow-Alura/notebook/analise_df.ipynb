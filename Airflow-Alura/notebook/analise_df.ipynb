{
 "cells": [
  {
   "cell_type": "code",
   "execution_count": 12,
   "metadata": {},
   "outputs": [],
   "source": [
    "from pyspark.sql import SparkSession\n",
    "import os\n",
    "import seaborn as sns"
   ]
  },
  {
   "cell_type": "code",
   "execution_count": 8,
   "metadata": {},
   "outputs": [
    {
     "data": {
      "text/plain": [
       "'/home/weslley/Desktop/DataEngineer-Studies/Airflow-Alura/datapipeline/datalake/gold/twitter_aluraonline/{folder_name}'"
      ]
     },
     "execution_count": 8,
     "metadata": {},
     "output_type": "execute_result"
    }
   ],
   "source": [
    "DATAPIPE_DIR = os.path.join(os.path.dirname(os.path.abspath('.')), 'datapipeline')\n",
    "DATALAKE_DIR = os.path.join(DATAPIPE_DIR, \"datalake\")\n",
    "BASE_DIR = os.path.join(DATALAKE_DIR, 'gold','twitter_aluraonline', '{folder_name}')\n",
    "BASE_DIR"
   ]
  },
  {
   "cell_type": "code",
   "execution_count": 9,
   "metadata": {},
   "outputs": [
    {
     "name": "stderr",
     "output_type": "stream",
     "text": [
      "22/06/08 21:35:55 WARN Utils: Your hostname, pop-os resolves to a loopback address: 127.0.1.1; using 192.168.0.14 instead (on interface wlp6s0)\n",
      "22/06/08 21:35:55 WARN Utils: Set SPARK_LOCAL_IP if you need to bind to another address\n",
      "WARNING: An illegal reflective access operation has occurred\n",
      "WARNING: Illegal reflective access by org.apache.spark.unsafe.Platform (file:/home/weslley/Desktop/DataEngineer-Studies/Airflow-Alura/.venv_airflow/lib/python3.9/site-packages/pyspark/jars/spark-unsafe_2.12-3.2.1.jar) to constructor java.nio.DirectByteBuffer(long,int)\n",
      "WARNING: Please consider reporting this to the maintainers of org.apache.spark.unsafe.Platform\n",
      "WARNING: Use --illegal-access=warn to enable warnings of further illegal reflective access operations\n",
      "WARNING: All illegal access operations will be denied in a future release\n",
      "Using Spark's default log4j profile: org/apache/spark/log4j-defaults.properties\n",
      "Setting default log level to \"WARN\".\n",
      "To adjust logging level use sc.setLogLevel(newLevel). For SparkR, use setLogLevel(newLevel).\n",
      "22/06/08 21:35:57 WARN NativeCodeLoader: Unable to load native-hadoop library for your platform... using builtin-java classes where applicable\n"
     ]
    }
   ],
   "source": [
    "spark = SparkSession\\\n",
    "    .builder\\\n",
    "    .appName('twitter_analytcs')\\\n",
    "    .getOrCreate()"
   ]
  },
  {
   "cell_type": "code",
   "execution_count": 18,
   "metadata": {},
   "outputs": [
    {
     "name": "stdout",
     "output_type": "stream",
     "text": [
      "+------------------+------------+--------------+--------+-----------+-------+\n",
      "|alura_conversation|created_date|n_conversation|n_tweets|reply_alura|weekday|\n",
      "+------------------+------------+--------------+--------+-----------+-------+\n",
      "|                 0|  2022-06-06|             8|       9|          0|    Mon|\n",
      "|               250|  2022-06-02|            32|      54|        285|    Thu|\n",
      "|                 0|  2022-06-05|             5|       5|          5|    Sun|\n",
      "|                 0|  2022-06-03|             8|      12|          0|    Fri|\n",
      "|                 0|  2022-06-07|            15|      26|          3|    Tue|\n",
      "+------------------+------------+--------------+--------+-----------+-------+\n",
      "only showing top 5 rows\n",
      "\n"
     ]
    }
   ],
   "source": [
    "df = spark.read.json(BASE_DIR.format(folder_name='twitter_insight_tweet'))\n",
    "df.show(5)"
   ]
  },
  {
   "cell_type": "code",
   "execution_count": 16,
   "metadata": {},
   "outputs": [
    {
     "data": {
      "text/plain": [
       "Column<'alura_conversation'>"
      ]
     },
     "execution_count": 16,
     "metadata": {},
     "output_type": "execute_result"
    }
   ],
   "source": []
  },
  {
   "cell_type": "code",
   "execution_count": 15,
   "metadata": {},
   "outputs": [
    {
     "ename": "ValueError",
     "evalue": "Cannot convert column into bool: please use '&' for 'and', '|' for 'or', '~' for 'not' when building DataFrame boolean expressions.",
     "output_type": "error",
     "traceback": [
      "\u001b[0;31m---------------------------------------------------------------------------\u001b[0m",
      "\u001b[0;31mValueError\u001b[0m                                Traceback (most recent call last)",
      "\u001b[1;32m/home/weslley/Desktop/DataEngineer-Studies/Airflow-Alura/notebook/analise_df.ipynb Cell 5'\u001b[0m in \u001b[0;36m<cell line: 1>\u001b[0;34m()\u001b[0m\n\u001b[0;32m----> <a href='vscode-notebook-cell:/home/weslley/Desktop/DataEngineer-Studies/Airflow-Alura/notebook/analise_df.ipynb#ch0000005?line=0'>1</a>\u001b[0m sns\u001b[39m.\u001b[39;49mdisplot(data\u001b[39m=\u001b[39;49mdf, x\u001b[39m=\u001b[39;49m\u001b[39m'\u001b[39;49m\u001b[39malura_conversation\u001b[39;49m\u001b[39m'\u001b[39;49m, kind\u001b[39m=\u001b[39;49m\u001b[39m\"\u001b[39;49m\u001b[39mhist\u001b[39;49m\u001b[39m\"\u001b[39;49m)\n",
      "File \u001b[0;32m~/Desktop/DataEngineer-Studies/Airflow-Alura/.venv_airflow/lib/python3.9/site-packages/seaborn/distributions.py:2194\u001b[0m, in \u001b[0;36mdisplot\u001b[0;34m(data, x, y, hue, row, col, weights, kind, rug, rug_kws, log_scale, legend, palette, hue_order, hue_norm, color, col_wrap, row_order, col_order, height, aspect, facet_kws, **kwargs)\u001b[0m\n\u001b[1;32m   <a href='file:///home/weslley/Desktop/DataEngineer-Studies/Airflow-Alura/.venv_airflow/lib/python3.9/site-packages/seaborn/distributions.py?line=2179'>2180</a>\u001b[0m \u001b[39mdef\u001b[39;00m \u001b[39mdisplot\u001b[39m(\n\u001b[1;32m   <a href='file:///home/weslley/Desktop/DataEngineer-Studies/Airflow-Alura/.venv_airflow/lib/python3.9/site-packages/seaborn/distributions.py?line=2180'>2181</a>\u001b[0m     data\u001b[39m=\u001b[39m\u001b[39mNone\u001b[39;00m, \u001b[39m*\u001b[39m,\n\u001b[1;32m   <a href='file:///home/weslley/Desktop/DataEngineer-Studies/Airflow-Alura/.venv_airflow/lib/python3.9/site-packages/seaborn/distributions.py?line=2181'>2182</a>\u001b[0m     \u001b[39m# Vector variables\u001b[39;00m\n\u001b[0;32m   (...)\u001b[0m\n\u001b[1;32m   <a href='file:///home/weslley/Desktop/DataEngineer-Studies/Airflow-Alura/.venv_airflow/lib/python3.9/site-packages/seaborn/distributions.py?line=2190'>2191</a>\u001b[0m     \u001b[39m*\u001b[39m\u001b[39m*\u001b[39mkwargs,\n\u001b[1;32m   <a href='file:///home/weslley/Desktop/DataEngineer-Studies/Airflow-Alura/.venv_airflow/lib/python3.9/site-packages/seaborn/distributions.py?line=2191'>2192</a>\u001b[0m ):\n\u001b[0;32m-> <a href='file:///home/weslley/Desktop/DataEngineer-Studies/Airflow-Alura/.venv_airflow/lib/python3.9/site-packages/seaborn/distributions.py?line=2193'>2194</a>\u001b[0m     p \u001b[39m=\u001b[39m _DistributionFacetPlotter(\n\u001b[1;32m   <a href='file:///home/weslley/Desktop/DataEngineer-Studies/Airflow-Alura/.venv_airflow/lib/python3.9/site-packages/seaborn/distributions.py?line=2194'>2195</a>\u001b[0m         data\u001b[39m=\u001b[39;49mdata,\n\u001b[1;32m   <a href='file:///home/weslley/Desktop/DataEngineer-Studies/Airflow-Alura/.venv_airflow/lib/python3.9/site-packages/seaborn/distributions.py?line=2195'>2196</a>\u001b[0m         variables\u001b[39m=\u001b[39;49m_DistributionFacetPlotter\u001b[39m.\u001b[39;49mget_semantics(\u001b[39mlocals\u001b[39;49m())\n\u001b[1;32m   <a href='file:///home/weslley/Desktop/DataEngineer-Studies/Airflow-Alura/.venv_airflow/lib/python3.9/site-packages/seaborn/distributions.py?line=2196'>2197</a>\u001b[0m     )\n\u001b[1;32m   <a href='file:///home/weslley/Desktop/DataEngineer-Studies/Airflow-Alura/.venv_airflow/lib/python3.9/site-packages/seaborn/distributions.py?line=2198'>2199</a>\u001b[0m     p\u001b[39m.\u001b[39mmap_hue(palette\u001b[39m=\u001b[39mpalette, order\u001b[39m=\u001b[39mhue_order, norm\u001b[39m=\u001b[39mhue_norm)\n\u001b[1;32m   <a href='file:///home/weslley/Desktop/DataEngineer-Studies/Airflow-Alura/.venv_airflow/lib/python3.9/site-packages/seaborn/distributions.py?line=2200'>2201</a>\u001b[0m     _check_argument(\u001b[39m\"\u001b[39m\u001b[39mkind\u001b[39m\u001b[39m\"\u001b[39m, [\u001b[39m\"\u001b[39m\u001b[39mhist\u001b[39m\u001b[39m\"\u001b[39m, \u001b[39m\"\u001b[39m\u001b[39mkde\u001b[39m\u001b[39m\"\u001b[39m, \u001b[39m\"\u001b[39m\u001b[39mecdf\u001b[39m\u001b[39m\"\u001b[39m], kind)\n",
      "File \u001b[0;32m~/Desktop/DataEngineer-Studies/Airflow-Alura/.venv_airflow/lib/python3.9/site-packages/seaborn/distributions.py:111\u001b[0m, in \u001b[0;36m_DistributionPlotter.__init__\u001b[0;34m(self, data, variables)\u001b[0m\n\u001b[1;32m    <a href='file:///home/weslley/Desktop/DataEngineer-Studies/Airflow-Alura/.venv_airflow/lib/python3.9/site-packages/seaborn/distributions.py?line=104'>105</a>\u001b[0m \u001b[39mdef\u001b[39;00m \u001b[39m__init__\u001b[39m(\n\u001b[1;32m    <a href='file:///home/weslley/Desktop/DataEngineer-Studies/Airflow-Alura/.venv_airflow/lib/python3.9/site-packages/seaborn/distributions.py?line=105'>106</a>\u001b[0m     \u001b[39mself\u001b[39m,\n\u001b[1;32m    <a href='file:///home/weslley/Desktop/DataEngineer-Studies/Airflow-Alura/.venv_airflow/lib/python3.9/site-packages/seaborn/distributions.py?line=106'>107</a>\u001b[0m     data\u001b[39m=\u001b[39m\u001b[39mNone\u001b[39;00m,\n\u001b[1;32m    <a href='file:///home/weslley/Desktop/DataEngineer-Studies/Airflow-Alura/.venv_airflow/lib/python3.9/site-packages/seaborn/distributions.py?line=107'>108</a>\u001b[0m     variables\u001b[39m=\u001b[39m{},\n\u001b[1;32m    <a href='file:///home/weslley/Desktop/DataEngineer-Studies/Airflow-Alura/.venv_airflow/lib/python3.9/site-packages/seaborn/distributions.py?line=108'>109</a>\u001b[0m ):\n\u001b[0;32m--> <a href='file:///home/weslley/Desktop/DataEngineer-Studies/Airflow-Alura/.venv_airflow/lib/python3.9/site-packages/seaborn/distributions.py?line=110'>111</a>\u001b[0m     \u001b[39msuper\u001b[39;49m()\u001b[39m.\u001b[39;49m\u001b[39m__init__\u001b[39;49m(data\u001b[39m=\u001b[39;49mdata, variables\u001b[39m=\u001b[39;49mvariables)\n",
      "File \u001b[0;32m~/Desktop/DataEngineer-Studies/Airflow-Alura/.venv_airflow/lib/python3.9/site-packages/seaborn/_core.py:605\u001b[0m, in \u001b[0;36mVectorPlotter.__init__\u001b[0;34m(self, data, variables)\u001b[0m\n\u001b[1;32m    <a href='file:///home/weslley/Desktop/DataEngineer-Studies/Airflow-Alura/.venv_airflow/lib/python3.9/site-packages/seaborn/_core.py?line=602'>603</a>\u001b[0m \u001b[39mdef\u001b[39;00m \u001b[39m__init__\u001b[39m(\u001b[39mself\u001b[39m, data\u001b[39m=\u001b[39m\u001b[39mNone\u001b[39;00m, variables\u001b[39m=\u001b[39m{}):\n\u001b[0;32m--> <a href='file:///home/weslley/Desktop/DataEngineer-Studies/Airflow-Alura/.venv_airflow/lib/python3.9/site-packages/seaborn/_core.py?line=604'>605</a>\u001b[0m     \u001b[39mself\u001b[39;49m\u001b[39m.\u001b[39;49massign_variables(data, variables)\n\u001b[1;32m    <a href='file:///home/weslley/Desktop/DataEngineer-Studies/Airflow-Alura/.venv_airflow/lib/python3.9/site-packages/seaborn/_core.py?line=606'>607</a>\u001b[0m     \u001b[39mfor\u001b[39;00m var, \u001b[39mcls\u001b[39m \u001b[39min\u001b[39;00m \u001b[39mself\u001b[39m\u001b[39m.\u001b[39m_semantic_mappings\u001b[39m.\u001b[39mitems():\n\u001b[1;32m    <a href='file:///home/weslley/Desktop/DataEngineer-Studies/Airflow-Alura/.venv_airflow/lib/python3.9/site-packages/seaborn/_core.py?line=607'>608</a>\u001b[0m \n\u001b[1;32m    <a href='file:///home/weslley/Desktop/DataEngineer-Studies/Airflow-Alura/.venv_airflow/lib/python3.9/site-packages/seaborn/_core.py?line=608'>609</a>\u001b[0m         \u001b[39m# Create the mapping function\u001b[39;00m\n\u001b[1;32m    <a href='file:///home/weslley/Desktop/DataEngineer-Studies/Airflow-Alura/.venv_airflow/lib/python3.9/site-packages/seaborn/_core.py?line=609'>610</a>\u001b[0m         map_func \u001b[39m=\u001b[39m partial(\u001b[39mcls\u001b[39m\u001b[39m.\u001b[39mmap, plotter\u001b[39m=\u001b[39m\u001b[39mself\u001b[39m)\n",
      "File \u001b[0;32m~/Desktop/DataEngineer-Studies/Airflow-Alura/.venv_airflow/lib/python3.9/site-packages/seaborn/_core.py:668\u001b[0m, in \u001b[0;36mVectorPlotter.assign_variables\u001b[0;34m(self, data, variables)\u001b[0m\n\u001b[1;32m    <a href='file:///home/weslley/Desktop/DataEngineer-Studies/Airflow-Alura/.venv_airflow/lib/python3.9/site-packages/seaborn/_core.py?line=665'>666</a>\u001b[0m \u001b[39melse\u001b[39;00m:\n\u001b[1;32m    <a href='file:///home/weslley/Desktop/DataEngineer-Studies/Airflow-Alura/.venv_airflow/lib/python3.9/site-packages/seaborn/_core.py?line=666'>667</a>\u001b[0m     \u001b[39mself\u001b[39m\u001b[39m.\u001b[39minput_format \u001b[39m=\u001b[39m \u001b[39m\"\u001b[39m\u001b[39mlong\u001b[39m\u001b[39m\"\u001b[39m\n\u001b[0;32m--> <a href='file:///home/weslley/Desktop/DataEngineer-Studies/Airflow-Alura/.venv_airflow/lib/python3.9/site-packages/seaborn/_core.py?line=667'>668</a>\u001b[0m     plot_data, variables \u001b[39m=\u001b[39m \u001b[39mself\u001b[39;49m\u001b[39m.\u001b[39;49m_assign_variables_longform(\n\u001b[1;32m    <a href='file:///home/weslley/Desktop/DataEngineer-Studies/Airflow-Alura/.venv_airflow/lib/python3.9/site-packages/seaborn/_core.py?line=668'>669</a>\u001b[0m         data, \u001b[39m*\u001b[39;49m\u001b[39m*\u001b[39;49mvariables,\n\u001b[1;32m    <a href='file:///home/weslley/Desktop/DataEngineer-Studies/Airflow-Alura/.venv_airflow/lib/python3.9/site-packages/seaborn/_core.py?line=669'>670</a>\u001b[0m     )\n\u001b[1;32m    <a href='file:///home/weslley/Desktop/DataEngineer-Studies/Airflow-Alura/.venv_airflow/lib/python3.9/site-packages/seaborn/_core.py?line=671'>672</a>\u001b[0m \u001b[39mself\u001b[39m\u001b[39m.\u001b[39mplot_data \u001b[39m=\u001b[39m plot_data\n\u001b[1;32m    <a href='file:///home/weslley/Desktop/DataEngineer-Studies/Airflow-Alura/.venv_airflow/lib/python3.9/site-packages/seaborn/_core.py?line=672'>673</a>\u001b[0m \u001b[39mself\u001b[39m\u001b[39m.\u001b[39mvariables \u001b[39m=\u001b[39m variables\n",
      "File \u001b[0;32m~/Desktop/DataEngineer-Studies/Airflow-Alura/.venv_airflow/lib/python3.9/site-packages/seaborn/_core.py:882\u001b[0m, in \u001b[0;36mVectorPlotter._assign_variables_longform\u001b[0;34m(self, data, **kwargs)\u001b[0m\n\u001b[1;32m    <a href='file:///home/weslley/Desktop/DataEngineer-Studies/Airflow-Alura/.venv_airflow/lib/python3.9/site-packages/seaborn/_core.py?line=872'>873</a>\u001b[0m \u001b[39mfor\u001b[39;00m key, val \u001b[39min\u001b[39;00m kwargs\u001b[39m.\u001b[39mitems():\n\u001b[1;32m    <a href='file:///home/weslley/Desktop/DataEngineer-Studies/Airflow-Alura/.venv_airflow/lib/python3.9/site-packages/seaborn/_core.py?line=873'>874</a>\u001b[0m \n\u001b[1;32m    <a href='file:///home/weslley/Desktop/DataEngineer-Studies/Airflow-Alura/.venv_airflow/lib/python3.9/site-packages/seaborn/_core.py?line=874'>875</a>\u001b[0m     \u001b[39m# First try to treat the argument as a key for the data collection.\u001b[39;00m\n\u001b[0;32m   (...)\u001b[0m\n\u001b[1;32m    <a href='file:///home/weslley/Desktop/DataEngineer-Studies/Airflow-Alura/.venv_airflow/lib/python3.9/site-packages/seaborn/_core.py?line=877'>878</a>\u001b[0m     \u001b[39m# taking from the main data object. Only allow strings to reference\u001b[39;00m\n\u001b[1;32m    <a href='file:///home/weslley/Desktop/DataEngineer-Studies/Airflow-Alura/.venv_airflow/lib/python3.9/site-packages/seaborn/_core.py?line=878'>879</a>\u001b[0m     \u001b[39m# fields in the index, because otherwise there is too much ambiguity.\u001b[39;00m\n\u001b[1;32m    <a href='file:///home/weslley/Desktop/DataEngineer-Studies/Airflow-Alura/.venv_airflow/lib/python3.9/site-packages/seaborn/_core.py?line=879'>880</a>\u001b[0m     \u001b[39mtry\u001b[39;00m:\n\u001b[1;32m    <a href='file:///home/weslley/Desktop/DataEngineer-Studies/Airflow-Alura/.venv_airflow/lib/python3.9/site-packages/seaborn/_core.py?line=880'>881</a>\u001b[0m         val_as_data_key \u001b[39m=\u001b[39m (\n\u001b[0;32m--> <a href='file:///home/weslley/Desktop/DataEngineer-Studies/Airflow-Alura/.venv_airflow/lib/python3.9/site-packages/seaborn/_core.py?line=881'>882</a>\u001b[0m             val \u001b[39min\u001b[39;49;00m data\n\u001b[1;32m    <a href='file:///home/weslley/Desktop/DataEngineer-Studies/Airflow-Alura/.venv_airflow/lib/python3.9/site-packages/seaborn/_core.py?line=882'>883</a>\u001b[0m             \u001b[39mor\u001b[39;00m (\u001b[39misinstance\u001b[39m(val, (\u001b[39mstr\u001b[39m, \u001b[39mbytes\u001b[39m)) \u001b[39mand\u001b[39;00m val \u001b[39min\u001b[39;00m index)\n\u001b[1;32m    <a href='file:///home/weslley/Desktop/DataEngineer-Studies/Airflow-Alura/.venv_airflow/lib/python3.9/site-packages/seaborn/_core.py?line=883'>884</a>\u001b[0m         )\n\u001b[1;32m    <a href='file:///home/weslley/Desktop/DataEngineer-Studies/Airflow-Alura/.venv_airflow/lib/python3.9/site-packages/seaborn/_core.py?line=884'>885</a>\u001b[0m     \u001b[39mexcept\u001b[39;00m (\u001b[39mKeyError\u001b[39;00m, \u001b[39mTypeError\u001b[39;00m):\n\u001b[1;32m    <a href='file:///home/weslley/Desktop/DataEngineer-Studies/Airflow-Alura/.venv_airflow/lib/python3.9/site-packages/seaborn/_core.py?line=885'>886</a>\u001b[0m         val_as_data_key \u001b[39m=\u001b[39m \u001b[39mFalse\u001b[39;00m\n",
      "File \u001b[0;32m~/Desktop/DataEngineer-Studies/Airflow-Alura/.venv_airflow/lib/python3.9/site-packages/pyspark/sql/column.py:907\u001b[0m, in \u001b[0;36mColumn.__nonzero__\u001b[0;34m(self)\u001b[0m\n\u001b[1;32m    <a href='file:///home/weslley/Desktop/DataEngineer-Studies/Airflow-Alura/.venv_airflow/lib/python3.9/site-packages/pyspark/sql/column.py?line=905'>906</a>\u001b[0m \u001b[39mdef\u001b[39;00m \u001b[39m__nonzero__\u001b[39m(\u001b[39mself\u001b[39m):\n\u001b[0;32m--> <a href='file:///home/weslley/Desktop/DataEngineer-Studies/Airflow-Alura/.venv_airflow/lib/python3.9/site-packages/pyspark/sql/column.py?line=906'>907</a>\u001b[0m     \u001b[39mraise\u001b[39;00m \u001b[39mValueError\u001b[39;00m(\u001b[39m\"\u001b[39m\u001b[39mCannot convert column into bool: please use \u001b[39m\u001b[39m'\u001b[39m\u001b[39m&\u001b[39m\u001b[39m'\u001b[39m\u001b[39m for \u001b[39m\u001b[39m'\u001b[39m\u001b[39mand\u001b[39m\u001b[39m'\u001b[39m\u001b[39m, \u001b[39m\u001b[39m'\u001b[39m\u001b[39m|\u001b[39m\u001b[39m'\u001b[39m\u001b[39m for \u001b[39m\u001b[39m'\u001b[39m\u001b[39mor\u001b[39m\u001b[39m'\u001b[39m\u001b[39m, \u001b[39m\u001b[39m\"\u001b[39m\n\u001b[1;32m    <a href='file:///home/weslley/Desktop/DataEngineer-Studies/Airflow-Alura/.venv_airflow/lib/python3.9/site-packages/pyspark/sql/column.py?line=907'>908</a>\u001b[0m                      \u001b[39m\"\u001b[39m\u001b[39m'\u001b[39m\u001b[39m~\u001b[39m\u001b[39m'\u001b[39m\u001b[39m for \u001b[39m\u001b[39m'\u001b[39m\u001b[39mnot\u001b[39m\u001b[39m'\u001b[39m\u001b[39m when building DataFrame boolean expressions.\u001b[39m\u001b[39m\"\u001b[39m)\n",
      "\u001b[0;31mValueError\u001b[0m: Cannot convert column into bool: please use '&' for 'and', '|' for 'or', '~' for 'not' when building DataFrame boolean expressions."
     ]
    }
   ],
   "source": []
  },
  {
   "cell_type": "code",
   "execution_count": null,
   "metadata": {},
   "outputs": [],
   "source": []
  }
 ],
 "metadata": {
  "interpreter": {
   "hash": "9a351e3ae2a760715b8c90daacab200fe26d106e835fc319b23d3bc90b62ede0"
  },
  "kernelspec": {
   "display_name": "Python 3.9.7 ('.venv_airflow': venv)",
   "language": "python",
   "name": "python3"
  },
  "language_info": {
   "codemirror_mode": {
    "name": "ipython",
    "version": 3
   },
   "file_extension": ".py",
   "mimetype": "text/x-python",
   "name": "python",
   "nbconvert_exporter": "python",
   "pygments_lexer": "ipython3",
   "version": "3.9.7"
  },
  "orig_nbformat": 4
 },
 "nbformat": 4,
 "nbformat_minor": 2
}
